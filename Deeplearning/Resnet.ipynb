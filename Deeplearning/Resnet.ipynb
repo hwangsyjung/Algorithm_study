{
 "cells": [
  {
   "cell_type": "code",
   "execution_count": 1,
   "id": "bed3367c-c1f9-429a-a15a-67b1c69f6e11",
   "metadata": {},
   "outputs": [
    {
     "name": "stderr",
     "output_type": "stream",
     "text": [
      "/opt/conda/envs/mulan/lib/python3.8/site-packages/tqdm/auto.py:21: TqdmWarning: IProgress not found. Please update jupyter and ipywidgets. See https://ipywidgets.readthedocs.io/en/stable/user_install.html\n",
      "  from .autonotebook import tqdm as notebook_tqdm\n"
     ]
    }
   ],
   "source": [
    "import torch\n",
    "import torch.nn as nn\n",
    "import torch.optim as optim\n",
    "import torch.nn.init as init\n",
    "\n",
    "import torchvision\n",
    "import torchvision.datasets as datasets\n",
    "import torchvision.transforms as transforms\n",
    "\n",
    "from torch.utils.data import DataLoader\n",
    "\n",
    "import numpy as np\n",
    "import matplotlib.pyplot as plt\n",
    "\n",
    "import tqdm\n",
    "from tqdm.auto import trange"
   ]
  },
  {
   "cell_type": "code",
   "execution_count": 2,
   "id": "ad93b945-1a18-4fea-800a-59e9a01e2937",
   "metadata": {},
   "outputs": [],
   "source": [
    "batch_size = 50\n",
    "learning_rate = 0.0002\n",
    "num_epoch = 100"
   ]
  },
  {
   "cell_type": "code",
   "execution_count": 3,
   "id": "f5d89796-7148-4ada-88fa-1fe28e422931",
   "metadata": {},
   "outputs": [
    {
     "name": "stdout",
     "output_type": "stream",
     "text": [
      "Downloading https://www.cs.toronto.edu/~kriz/cifar-10-python.tar.gz to ../Data/cifar-10-python.tar.gz\n"
     ]
    },
    {
     "name": "stderr",
     "output_type": "stream",
     "text": [
      "100%|██████████| 170498071/170498071 [00:11<00:00, 14914963.11it/s]\n"
     ]
    },
    {
     "name": "stdout",
     "output_type": "stream",
     "text": [
      "Extracting ../Data/cifar-10-python.tar.gz to ../Data/\n",
      "Files already downloaded and verified\n"
     ]
    }
   ],
   "source": [
    "transform = transforms.Compose([transforms.ToTensor(), transforms.Normalize((0.5, 0.5, 0.5), (0.5, 0.5, 0.5))])\n",
    "\n",
    "# define dataset\n",
    "cifar10_train = datasets.CIFAR10(root=\"../Data/\", train=True, transform=transform, target_transform=None, download=True)\n",
    "cifar10_test = datasets.CIFAR10(root=\"../Data/\", train=False, transform=transform, target_transform=None, download=True)\n",
    "\n",
    "# define loader\n",
    "train_loader = DataLoader(cifar10_train,batch_size=batch_size, shuffle=True, num_workers=2, drop_last=True)\n",
    "test_loader = DataLoader(cifar10_test,batch_size=batch_size, shuffle=False, num_workers=2, drop_last=True)\n",
    "\n",
    "# define classes\n",
    "classes = ('plane', 'car', 'bird', 'cat', 'deer', 'dog', 'frog', 'horse', 'ship', 'truck')"
   ]
  },
  {
   "cell_type": "code",
   "execution_count": null,
   "id": "9ae46b9f-6bc5-4dd0-92e7-7f6884975cb7",
   "metadata": {},
   "outputs": [],
   "source": [
    "def conv_block_1(in_dim,out_dim, activation,stride=1):\n",
    "    model = nn.Sequential(\n",
    "        nn.Conv2d(in_dim,out_dim, kernel_size=1, stride=stride),\n",
    "        nn.BatchNorm2d(out_dim),\n",
    "        activation,\n",
    "    )\n",
    "    return model\n",
    "\n",
    "\n",
    "def conv_block_3(in_dim,out_dim, activation, stride=1):\n",
    "    model = nn.Sequential(\n",
    "        nn.Conv2d(in_dim,out_dim, kernel_size=3, stride=stride, padding=1),\n",
    "        nn.BatchNorm2d(out_dim),\n",
    "        activation,\n",
    "    )\n",
    "    return model"
   ]
  },
  {
   "cell_type": "code",
   "execution_count": null,
   "id": "b4c3ebab-66ca-4d00-aac1-799558a2aacb",
   "metadata": {},
   "outputs": [],
   "source": [
    "class BottleNeck(nn.Module):\n",
    "    def __init__(self,in_dim,mid_dim,out_dim,activation,down=False):\n",
    "        super(BottleNeck,self).__init__()\n",
    "        self.down=down\n",
    "        \n",
    "        # 특성지도의 크기가 감소하는 경우\n",
    "        if self.down:\n",
    "            self.layer = nn.Sequential(\n",
    "              conv_block_1(in_dim,mid_dim,activation,stride=2),\n",
    "              conv_block_3(mid_dim,mid_dim,activation,stride=1),\n",
    "              conv_block_1(mid_dim,out_dim,activation,stride=1),\n",
    "            )\n",
    "            \n",
    "            # 특성지도 크기 + 채널을 맞춰주는 부분\n",
    "            self.downsample = nn.Conv2d(in_dim,out_dim,kernel_size=1,stride=2)\n",
    "            \n",
    "        # 특성지도의 크기가 그대로인 경우\n",
    "        else:\n",
    "            self.layer = nn.Sequential(\n",
    "                conv_block_1(in_dim,mid_dim,activation,stride=1),\n",
    "                conv_block_3(mid_dim,mid_dim,activation,stride=1),\n",
    "                conv_block_1(mid_dim,out_dim,activation,stride=1),\n",
    "            )\n",
    "            \n",
    "        # 채널을 맞춰주는 부분\n",
    "        self.dim_equalizer = nn.Conv2d(in_dim,out_dim,kernel_size=1)\n",
    "                  \n",
    "    def forward(self,x):\n",
    "        if self.down:\n",
    "            downsample = self.downsample(x)\n",
    "            out = self.layer(x)\n",
    "            out = out + downsample\n",
    "        else:\n",
    "            out = self.layer(x)\n",
    "            if x.size() is not out.size():\n",
    "                x = self.dim_equalizer(x)\n",
    "            out = out + x\n",
    "        return out"
   ]
  },
  {
   "cell_type": "code",
   "execution_count": null,
   "id": "570248e8-6e1e-4ee7-97ce-17eb72aacfff",
   "metadata": {},
   "outputs": [],
   "source": [
    "# 50-layer\n",
    "class ResNet(nn.Module):\n",
    "\n",
    "    def __init__(self, base_dim, num_classes=10):\n",
    "        super(ResNet, self).__init__()\n",
    "        self.activation = nn.ReLU()\n",
    "        self.layer_1 = nn.Sequential(\n",
    "            nn.Conv2d(3,base_dim,7,2,3),\n",
    "            nn.ReLU(),\n",
    "            nn.MaxPool2d(3,2,1),\n",
    "        )\n",
    "        self.layer_2 = nn.Sequential(\n",
    "            BottleNeck(base_dim,base_dim,base_dim*4,self.activation),\n",
    "            BottleNeck(base_dim*4,base_dim,base_dim*4,self.activation),\n",
    "            BottleNeck(base_dim*4,base_dim,base_dim*4,self.activation,down=True),\n",
    "        )   \n",
    "        self.layer_3 = nn.Sequential(\n",
    "            BottleNeck(base_dim*4,base_dim*2,base_dim*8,self.activation),\n",
    "            BottleNeck(base_dim*8,base_dim*2,base_dim*8,self.activation),\n",
    "            BottleNeck(base_dim*8,base_dim*2,base_dim*8,self.activation),\n",
    "            BottleNeck(base_dim*8,base_dim*2,base_dim*8,self.activation,down=True),\n",
    "        )\n",
    "        self.layer_4 = nn.Sequential(\n",
    "            BottleNeck(base_dim*8,base_dim*4,base_dim*16,self.activation),\n",
    "            BottleNeck(base_dim*16,base_dim*4,base_dim*16,self.activation),\n",
    "            BottleNeck(base_dim*16,base_dim*4,base_dim*16,self.activation),            \n",
    "            BottleNeck(base_dim*16,base_dim*4,base_dim*16,self.activation),\n",
    "            BottleNeck(base_dim*16,base_dim*4,base_dim*16,self.activation),\n",
    "            BottleNeck(base_dim*16,base_dim*4,base_dim*16,self.activation,down=True),\n",
    "        )\n",
    "        self.layer_5 = nn.Sequential(\n",
    "            BottleNeck(base_dim*16,base_dim*8,base_dim*32,self.activation),\n",
    "            BottleNeck(base_dim*32,base_dim*8,base_dim*32,self.activation),\n",
    "            BottleNeck(base_dim*32,base_dim*8,base_dim*32,self.activation),\n",
    "        )\n",
    "        self.avgpool = nn.AvgPool2d(1,1) \n",
    "        self.fc_layer = nn.Linear(base_dim*32,num_classes)\n",
    "        \n",
    "    def forward(self, x):\n",
    "        out = self.layer_1(x)\n",
    "        out = self.layer_2(out)\n",
    "        out = self.layer_3(out)\n",
    "        out = self.layer_4(out)\n",
    "        out = self.layer_5(out)\n",
    "        out = self.avgpool(out)\n",
    "        out = out.view(batch_size,-1)\n",
    "        out = self.fc_layer(out)\n",
    "        \n",
    "        return out"
   ]
  },
  {
   "cell_type": "code",
   "execution_count": null,
   "id": "2eb030f1-2410-4f5c-abe1-b36b0092c2c7",
   "metadata": {},
   "outputs": [],
   "source": [
    "device = torch.device(\"cuda:0\")\n",
    "model = ResNet(base_dim=64).to(device)\n",
    "loss_func = nn.CrossEntropyLoss()\n",
    "optimizer = optim.Adam(model.parameters(),lr=learning_rate)\n",
    "\n",
    "loss_arr = []\n",
    "for i in trange(num_epoch):\n",
    "    for j,[image,label] in enumerate(train_loader):\n",
    "        x = image.to(device)\n",
    "        y_= label.to(device)\n",
    "        \n",
    "        optimizer.zero_grad()\n",
    "        output = model.forward(x)\n",
    "        loss = loss_func(output,y_)\n",
    "        loss.backward()\n",
    "        optimizer.step()\n",
    "\n",
    "    if i % 10 ==0:\n",
    "        print(loss)\n",
    "        loss_arr.append(loss.cpu().detach().numpy())\n"
   ]
  }
 ],
 "metadata": {
  "kernelspec": {
   "display_name": "mulan",
   "language": "python",
   "name": "mulan"
  },
  "language_info": {
   "codemirror_mode": {
    "name": "ipython",
    "version": 3
   },
   "file_extension": ".py",
   "mimetype": "text/x-python",
   "name": "python",
   "nbconvert_exporter": "python",
   "pygments_lexer": "ipython3",
   "version": "3.8.17"
  }
 },
 "nbformat": 4,
 "nbformat_minor": 5
}
